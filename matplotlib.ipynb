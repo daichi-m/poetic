{
 "cells": [
  {
   "cell_type": "code",
   "execution_count": 20,
   "id": "a77d26e3-ad6f-41f6-a65a-57ceb6ca535b",
   "metadata": {},
   "outputs": [],
   "source": [
    "import matplotlib.pyplot as plt\n",
    "import json\n",
    "\n",
    "data = {}\n",
    "with open('iris_prof.json') as f:\n",
    "    data = json.load(f)\n",
    "hist_data = data['variables']['sepal_length']['histogram']"
   ]
  },
  {
   "cell_type": "code",
   "execution_count": 28,
   "id": "ad90cf25-216c-41ba-aa44-3d77af6e3157",
   "metadata": {},
   "outputs": [
    {
     "data": {
      "image/png": "[encoded data removed]",
      "text/plain": [
       "<Figure size 432x288 with 1 Axes>"
      ]
     },
     "metadata": {
      "needs_background": "light"
     },
     "output_type": "display_data"
    }
   ],
   "source": [
    "fig = plt.figure()\n",
    "bins = hist_data['bin_edges']\n",
    "counts = hist_data['counts']\n",
    "x,y,z = plt.hist(x=bins[:-1], bins=bins, weights=counts,figure=fig)\n",
    "fig.savefig('hist.svg', format='svg')\n",
    "    \n",
    "    "
   ]
  },
  {
   "cell_type": "code",
   "execution_count": 31,
   "id": "fc20fb71-0eed-4cd1-8069-01144f3e223d",
   "metadata": {},
   "outputs": [
    {
     "data": {
      "text/plain": [
       "str"
      ]
     },
     "execution_count": 31,
     "metadata": {},
     "output_type": "execute_result"
    }
   ],
   "source": [
    "svg = data['scatter']['sepal_length']['df_index']\n",
    "type(svg)"
   ]
  },
  {
   "cell_type": "code",
   "execution_count": 32,
   "id": "dbcd56d9-478f-40d6-b9b5-cfdf448e8d80",
   "metadata": {},
   "outputs": [],
   "source": [
    "with open('scatter.svg', 'w') as f:\n",
    "    f.write(svg)"
   ]
  },
  {
   "cell_type": "code",
   "execution_count": null,
   "id": "1bf07e65-d505-4d67-a02c-6cdb1f3b1549",
   "metadata": {},
   "outputs": [],
   "source": []
  }
 ],
 "metadata": {
  "kernelspec": {
   "display_name": "Python 3 (ipykernel)",
   "language": "python",
   "name": "python3"
  },
  "language_info": {
   "codemirror_mode": {
    "name": "ipython",
    "version": 3
   },
   "file_extension": ".py",
   "mimetype": "text/x-python",
   "name": "python",
   "nbconvert_exporter": "python",
   "pygments_lexer": "ipython3",
   "version": "3.9.0"
  }
 },
 "nbformat": 4,
 "nbformat_minor": 5
}
